{
 "cells": [
  {
   "cell_type": "code",
   "execution_count": 7,
   "metadata": {},
   "outputs": [
    {
     "name": "stdout",
     "output_type": "stream",
     "text": [
      "14\n",
      "['hi', 'testing', 'if', 'split', 'can', 'get', 'the', 'number', 'of', 'words', 'in', 'this', 'sentence', 'correctly']\n"
     ]
    }
   ],
   "source": [
    "text = \" hi testing if split can get the number of words in this sentence correctly \"\n",
    "print(len(text.split()))\n",
    "print(text.split())"
   ]
  },
  {
   "cell_type": "markdown",
   "metadata": {},
   "source": [
    "Lesson learnt: split() with no argument ignores leading/trailing whitespace, while splitting by a specific delimiter returns empty strings for leading/trailing separators."
   ]
  }
 ],
 "metadata": {
  "kernelspec": {
   "display_name": "Python 3",
   "language": "python",
   "name": "python3"
  },
  "language_info": {
   "codemirror_mode": {
    "name": "ipython",
    "version": 3
   },
   "file_extension": ".py",
   "mimetype": "text/x-python",
   "name": "python",
   "nbconvert_exporter": "python",
   "pygments_lexer": "ipython3",
   "version": "3.9.1"
  }
 },
 "nbformat": 4,
 "nbformat_minor": 2
}
